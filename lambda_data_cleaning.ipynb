{
 "cells": [
  {
   "cell_type": "code",
   "execution_count": null,
   "id": "c77e4c47-b03a-495e-8804-8cb944984432",
   "metadata": {},
   "outputs": [],
   "source": []
  }
 ],
 "metadata": {
  "kernelspec": {
   "display_name": "",
   "name": ""
  },
  "language_info": {
   "name": ""
  }
 },
 "nbformat": 4,
 "nbformat_minor": 5
}
